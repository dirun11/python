{
  "nbformat": 4,
  "nbformat_minor": 0,
  "metadata": {
    "colab": {
      "provenance": [],
      "authorship_tag": "ABX9TyN60lmUlba660+Qk6pOpsWs",
      "include_colab_link": true
    },
    "kernelspec": {
      "name": "python3",
      "display_name": "Python 3"
    },
    "language_info": {
      "name": "python"
    }
  },
  "cells": [
    {
      "cell_type": "markdown",
      "metadata": {
        "id": "view-in-github",
        "colab_type": "text"
      },
      "source": [
        "<a href=\"https://colab.research.google.com/github/dirun11/python/blob/main/Linked_List.ipynb\" target=\"_parent\"><img src=\"https://colab.research.google.com/assets/colab-badge.svg\" alt=\"Open In Colab\"/></a>"
      ]
    },
    {
      "cell_type": "code",
      "execution_count": null,
      "metadata": {
        "id": "Pyblnm1OMnOR"
      },
      "outputs": [],
      "source": [
        "class LinkedList:\n",
        "  def __init__(self, value):\n",
        "    # Create New Node, (initaiize new linked list)\n",
        "  def append(self, value):\n",
        "    # Create a New Node, (add Node to the end)\n",
        "  def prepend(self, value):\n",
        "    # Create a New Node, (add the Node at the beginning)\n",
        "  def insert(self, index, value):\n",
        "    # Create a New Node, (add the Node at a given index)"
      ]
    },
    {
      "cell_type": "code",
      "source": [
        "\"\"\" The Node class will represent an individual node within the linked list, while the LinkedList class will manage the overall list structure \"\"\"\n",
        "class Node:\n",
        "    ## NODE CONSTRUCTOR HERE ##\n",
        "    def __init__(self,value):\n",
        "        self.value =value\n",
        "        self.next = None#\n",
        "    #                               #\n",
        "    #                               #\n",
        "    #                               #\n",
        "    #################################\n",
        "\n",
        "class LinkedList:\n",
        "    ## LL CONSTRUCTOR HERE ##\n",
        "    def __init__(self,value):\n",
        "        new_node = Node(value)\n",
        "        self.head = new_node\n",
        "        self.tail = new_node\n",
        "        self.length = 1 #initialized to 1, which represents the current number of nodes in the list.\n",
        "    #                             #\n",
        "    #                             #\n",
        "    #                             #\n",
        "    ###############################\n",
        "\n",
        "\n",
        "\n",
        "\n",
        "my_linked_list = LinkedList(4)\n",
        "\n",
        "print('Head:', my_linked_list.head.value)\n",
        "print('Tail:', my_linked_list.tail.value)\n",
        "print('Length:', my_linked_list.length)"
      ],
      "metadata": {
        "colab": {
          "base_uri": "https://localhost:8080/"
        },
        "id": "dAFVUCTaSb2-",
        "outputId": "305c8e5f-af97-4bca-a57d-309ead1a0de8"
      },
      "execution_count": null,
      "outputs": [
        {
          "output_type": "stream",
          "name": "stdout",
          "text": [
            "Head: 4\n",
            "Tail: 4\n",
            "Length: 1\n"
          ]
        }
      ]
    },
    {
      "cell_type": "code",
      "source": [
        "class Node:\n",
        "    ## NODE CONSTRUCTOR HERE ##\n",
        "    def __init__(self,value):\n",
        "        self.value =value\n",
        "        self.next = None\n",
        "\n",
        "## append Linked list to the end\n",
        "class append(self, value):\n",
        "  new_node = Node(value)\n",
        "  if self.head is None:    # testing if the linked list is empty\n",
        "    self.head = new_node\n",
        "    self.tail = new_node\n",
        "  else:                    # linked list logic\n",
        "    self.tail.next = new_node\n",
        "    self.tail = new_node\n",
        "\n",
        "  self.length +=1\n",
        "  return True\n",
        "\n",
        "\n",
        "\n"
      ],
      "metadata": {
        "id": "HAKpC25jSdMJ"
      },
      "execution_count": null,
      "outputs": []
    }
  ]
}